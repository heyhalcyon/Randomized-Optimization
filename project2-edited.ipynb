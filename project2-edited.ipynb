{
 "cells": [
  {
   "cell_type": "code",
   "execution_count": 2,
   "metadata": {},
   "outputs": [],
   "source": [
    "# generate a vector of random numbers which obeys the given distribution.\n",
    "#\n",
    "# n: length of the vector\n",
    "# mu: mean value\n",
    "# sigma: standard deviation.\n",
    "# dist: choices for the distribution, you need to implement at least normal \n",
    "#       distribution and uniform distribution.\n",
    "#\n",
    "# For normal distribution, you can use ``numpy.random.normal`` to generate.\n",
    "# For uniform distribution, the interval to sample will be [mu - sigma/sqrt(3), mu + sigma/sqrt(3)].\n",
    "from __future__ import division\n",
    "import numpy as np\n",
    "import math\n",
    "\n",
    "def generate_random_numbers(n, mu, sigma, dist=\"normal\"):\n",
    "    # write your code here.\n",
    "    if dist == \"normal\":\n",
    "        return np.random.normal(mu, sigma, n)\n",
    "    elif dist == \"uniform\":\n",
    "        \n",
    "        return np.random.uniform(mu - sigma/math.sqrt(3), mu + sigma/math.sqrt(3), n)\n",
    "    else:\n",
    "        raise Exception(\"The distribution {unknown_dist} is not implemented\".format(unknown_dist=dist))\n",
    "        \n",
    "        \n",
    "# test your code:\n",
    "y_test = generate_random_numbers(5, 0, 0.1, \"normal\")\n"
   ]
  },
  {
   "cell_type": "code",
   "execution_count": 22,
   "metadata": {},
   "outputs": [
    {
     "name": "stdout",
     "output_type": "stream",
     "text": [
      "[1 1 2 0 3]\n"
     ]
    }
   ],
   "source": [
    "y1 = generate_random_numbers(105, 0.5, 1.0, \"normal\")\n",
    "y2 = generate_random_numbers(105, 0.5, 1.0, \"uniform\")\n",
    "x0 = 0\n",
    "#yk = 1/(k+1)  step length \n",
    "\n",
    "ordering = np.random.choice(5, 5, replace=True)\n",
    "print(ordering)"
   ]
  },
  {
   "cell_type": "code",
   "execution_count": 9,
   "metadata": {},
   "outputs": [
    {
     "name": "stdout",
     "output_type": "stream",
     "text": [
      "\n",
      "\n",
      "\n"
     ]
    }
   ],
   "source": [
    "# IGD, the ordering is permitted to have replacement. \n",
    "#\n",
    "def IGD_wr_task1(y):\n",
    "    n = len(y)\n",
    "    ordering = np.random.choice(n, n, replace=True)\n",
    "    #print(ordering)\n",
    "    x0 = 0\n",
    "    k = 0\n",
    "    xk = x0\n",
    "    Listx = []\n",
    "    Listobj = []\n",
    "    # implement the algorithm's iteration of IGD. Your result should return the the final xk\n",
    "    # at the last iteration and also the history of objective function at each xk.        \n",
    "    for i in ordering:\n",
    "        target = y[i]\n",
    "        gama = 1/ (k + 1)\n",
    "        xk = xk - gama*(xk - target)\n",
    "        k += 1\n",
    "        Listx.append(xk)\n",
    "        objk = 0\n",
    "        for j in y:\n",
    "            objk += (xk - j)**2\n",
    "        objk = objk/2\n",
    "        Listobj.append(objk)       \n",
    "    return xk, Listobj\n",
    "\n",
    "xk1 ,Listobj1 = IGD_wr_task1(y1)\n",
    "print()\n",
    "xk2 ,Listobj2 = IGD_wr_task1(y2)\n",
    "print()\n",
    "\n",
    "\n",
    "# IGD, the ordering is not permitted to have replacement.\n",
    "#\n",
    "#\n",
    "def IGD_wo_task1(y):\n",
    "    n = len(y)\n",
    "    ordering = np.random.choice(n, n, replace=False)\n",
    "    #print(ordering)\n",
    "    Listx = []\n",
    "    Listobj = []\n",
    "    k = 0\n",
    "    x0 = 0\n",
    "    xk = x0\n",
    "    # implement the algorithm's iteration of IGD. Your result should return the the final xk\n",
    "    # at the last iteration and also the history of objective function at each xk.\n",
    "    for i in ordering:\n",
    "        target = y[i]\n",
    "        gama = 1/ (k + 1)\n",
    "        xk = xk - gama*(xk - target)\n",
    "        k += 1\n",
    "        Listx.append(xk)\n",
    "        objk = 0\n",
    "        for j in y:\n",
    "            objk += (xk - j)**2\n",
    "        objk = objk/2\n",
    "        Listobj.append(objk)       \n",
    "    return xk, Listobj #Listx\n",
    "\n",
    "xk1_no ,Listobj1_no = IGD_wo_task1(y1)\n",
    "print()\n",
    "xk2_no ,Listobj2_no = IGD_wo_task1(y2)\n",
    "\n"
   ]
  },
  {
   "cell_type": "code",
   "execution_count": 20,
   "metadata": {},
   "outputs": [
    {
     "data": {
      "image/png": "[encoded data removed]",
      "text/plain": [
       "<Figure size 432x288 with 1 Axes>"
      ]
     },
     "metadata": {},
     "output_type": "display_data"
    }
   ],
   "source": [
    "import matplotlib.pyplot as plt\n",
    "plt.plot(np.arange(105), Listobj1, 'r')\n",
    "plt.plot(np.arange(105), Listobj1_no, 'b')\n",
    "plt.show()\n",
    "\n",
    "\n"
   ]
  },
  {
   "cell_type": "code",
   "execution_count": 21,
   "metadata": {},
   "outputs": [
    {
     "data": {
      "image/png": "[encoded data removed]",
      "text/plain": [
       "<Figure size 432x288 with 1 Axes>"
      ]
     },
     "metadata": {},
     "output_type": "display_data"
    }
   ],
   "source": [
    "plt.plot(np.arange(105), Listobj2, 'r')\n",
    "plt.plot(np.arange(105), Listobj2_no, 'b')\n",
    "plt.show()"
   ]
  },
  {
   "cell_type": "code",
   "execution_count": null,
   "metadata": {},
   "outputs": [],
   "source": []
  }
 ],
 "metadata": {
  "kernelspec": {
   "display_name": "Python 3",
   "language": "python",
   "name": "python3"
  },
  "language_info": {
   "codemirror_mode": {
    "name": "ipython",
    "version": 3
   },
   "file_extension": ".py",
   "mimetype": "text/x-python",
   "name": "python",
   "nbconvert_exporter": "python",
   "pygments_lexer": "ipython3",
   "version": "3.6.5"
  },
  "toc": {
   "base_numbering": 1,
   "nav_menu": {},
   "number_sections": true,
   "sideBar": true,
   "skip_h1_title": false,
   "title_cell": "Table of Contents",
   "title_sidebar": "Contents",
   "toc_cell": false,
   "toc_position": {},
   "toc_section_display": true,
   "toc_window_display": false
  }
 },
 "nbformat": 4,
 "nbformat_minor": 2
}
